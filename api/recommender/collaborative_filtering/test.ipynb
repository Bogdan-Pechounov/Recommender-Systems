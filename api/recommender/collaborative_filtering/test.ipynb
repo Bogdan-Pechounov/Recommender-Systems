{
 "cells": [
  {
   "cell_type": "code",
   "execution_count": null,
   "metadata": {},
   "outputs": [
    {
     "name": "stdout",
     "output_type": "stream",
     "text": [
      "Number of processors:  8\n"
     ]
    }
   ],
   "source": [
    "import multiprocessing as mp\n",
    "print(\"Number of processors: \", mp.cpu_count())"
   ]
  },
  {
   "cell_type": "code",
   "execution_count": null,
   "metadata": {},
   "outputs": [
    {
     "name": "stdout",
     "output_type": "stream",
     "text": [
      "users: 610 movies: 9724 ratings: 100836\n",
      "users: 610 movies: 9361 ratings: 90618\n",
      "users: 598 movies: 3714 ratings: 10218\n"
     ]
    }
   ],
   "source": [
    "import pickle\n",
    "from utils import Holder, print_progress\n",
    "import numpy as np\n",
    "from sortedcontainers import SortedList\n",
    "\n",
    "\n",
    "# load data\n",
    "with open('preprocessed/holder.pickle', 'rb') as f:\n",
    "    data: Holder = pickle.load(f)\n",
    "\n",
    "data.print_summary()\n",
    "train, test = data.split(0.9)\n",
    "train.print_summary()\n",
    "test.print_summary()"
   ]
  },
  {
   "cell_type": "code",
   "execution_count": null,
   "metadata": {},
   "outputs": [],
   "source": [
    "pool = mp.Pool(mp.cpu_count())\n",
    "\n",
    "items = train.movie2user.items()"
   ]
  },
  {
   "cell_type": "code",
   "execution_count": 1,
   "metadata": {},
   "outputs": [
    {
     "name": "stdout",
     "output_type": "stream",
     "text": [
      "a\n",
      "b\n"
     ]
    }
   ],
   "source": [
    "for key in {'a':1, 'b':2}:\n",
    "    print(key)"
   ]
  },
  {
   "cell_type": "code",
   "execution_count": 31,
   "metadata": {},
   "outputs": [
    {
     "name": "stdout",
     "output_type": "stream",
     "text": [
      "Updating100.0%\n",
      "Test\n"
     ]
    }
   ],
   "source": [
    "def print_progress(msg, i, max, step=1):\n",
    "    if i == max - 1:\n",
    "        print(f'\\r{msg}{round((i+1)/max * 100, 2)}%')\n",
    "    elif i % step == 0:\n",
    "        print(f'\\r{msg}{round((i+1)/max * 100, 2)}%', end='')\n",
    "\n",
    "print_progress('Updating', 0, 2)\n",
    "print_progress('Updating', 1, 2)\n",
    "print('Test')"
   ]
  }
 ],
 "metadata": {
  "kernelspec": {
   "display_name": "Python 3.10.6 ('ml')",
   "language": "python",
   "name": "python3"
  },
  "language_info": {
   "codemirror_mode": {
    "name": "ipython",
    "version": 3
   },
   "file_extension": ".py",
   "mimetype": "text/x-python",
   "name": "python",
   "nbconvert_exporter": "python",
   "pygments_lexer": "ipython3",
   "version": "3.10.6"
  },
  "orig_nbformat": 4,
  "vscode": {
   "interpreter": {
    "hash": "473c9f7a18adf9446b7b2af9876b9dd49ecbb896620adf0e0849c5ff0311f28b"
   }
  }
 },
 "nbformat": 4,
 "nbformat_minor": 2
}
