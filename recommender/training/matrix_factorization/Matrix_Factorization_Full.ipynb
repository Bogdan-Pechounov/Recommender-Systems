{
  "cells": [
    {
      "cell_type": "code",
      "execution_count": 1,
      "metadata": {
        "colab": {
          "base_uri": "https://localhost:8080/"
        },
        "id": "2r7KnW5GOCGp",
        "outputId": "ecd62121-3611-438a-b94c-f9864189a53a"
      },
      "outputs": [
        {
          "name": "stdout",
          "output_type": "stream",
          "text": [
            "[name: \"/device:CPU:0\"\n",
            "device_type: \"CPU\"\n",
            "memory_limit: 268435456\n",
            "locality {\n",
            "}\n",
            "incarnation: 18190478336125512248\n",
            "xla_global_id: -1\n",
            ", name: \"/device:GPU:0\"\n",
            "device_type: \"GPU\"\n",
            "memory_limit: 14415560704\n",
            "locality {\n",
            "  bus_id: 1\n",
            "  links {\n",
            "  }\n",
            "}\n",
            "incarnation: 15473800359995433997\n",
            "physical_device_desc: \"device: 0, name: Tesla T4, pci bus id: 0000:00:04.0, compute capability: 7.5\"\n",
            "xla_global_id: 416903419\n",
            "]\n"
          ]
        }
      ],
      "source": [
        "from tensorflow.python.client import device_lib\n",
        "print(device_lib.list_local_devices())"
      ]
    },
    {
      "cell_type": "code",
      "execution_count": null,
      "metadata": {
        "id": "hgzErpBROSA2"
      },
      "outputs": [],
      "source": [
        "from google.colab import drive\n",
        "drive.mount('/content/drive')\n",
        "%cd drive/MyDrive/Data\n",
        "import os \n",
        "cwd = os.getcwd()"
      ]
    },
    {
      "cell_type": "code",
      "execution_count": null,
      "metadata": {
        "id": "U3-VP3OEOVQl"
      },
      "outputs": [],
      "source": [
        "import pandas as pd\n",
        "\n",
        "# preprocess\n",
        "df = pd.read_csv('ratings.csv')\n",
        "\n",
        "# make user id go from 0 to N-1\n",
        "df.userId = df.userId - 1\n",
        "\n",
        "# make movie id go from 0 to M-1\n",
        "movie2idx = {}\n",
        "count = 0\n",
        "for movie_id in set(df.movieId.values):\n",
        "    movie2idx[movie_id] = count\n",
        "    count += 1\n",
        "\n",
        "df['movie_idx'] = df.movieId.map(movie2idx)\n",
        "df = df.drop(columns=['timestamp'])\n"
      ]
    },
    {
      "cell_type": "code",
      "execution_count": null,
      "metadata": {
        "id": "OjacY9t-ObWo"
      },
      "outputs": [],
      "source": [
        "from keras.models import Model, load_model\n",
        "from keras.layers import Input, Embedding, Dot, Add, Flatten\n",
        "from keras.callbacks import ModelCheckpoint\n",
        "from keras.regularizers import l2\n",
        "from keras.optimizers import SGD\n",
        "\n",
        "N = df.userId.max() + 1 # number of users\n",
        "M = df.movie_idx.max() + 1 # number of movies\n",
        "mu = df.rating.mean()\n",
        "print(len(df), N, M, mu)\n",
        "\n",
        "# parameters\n",
        "K = 5\n",
        "epochs = 20\n",
        "reg = 0.0\n",
        "\n",
        "# keras model\n",
        "u = Input(shape=(1,))\n",
        "m = Input(shape=(1,))\n",
        "u_embedding = Embedding(N, K, embeddings_regularizer=l2(reg))(u) # (N, 1, K)\n",
        "m_embedding = Embedding(M, K, embeddings_regularizer=l2(reg))(m) # (N, 1, K)\n",
        "\n",
        "u_bias = Embedding(N, 1, embeddings_regularizer=l2(reg))(u) # (N, 1, 1)\n",
        "m_bias = Embedding(M, 1, embeddings_regularizer=l2(reg))(m) # (N, 1, 1)\n",
        "x = Dot(axes=2)([u_embedding, m_embedding]) # (N, 1, 1)\n",
        "\n",
        "x = Add()([x, u_bias, m_bias])\n",
        "x = Flatten()(x) # (N, 1)\n",
        "\n",
        "# save callback\n",
        "filepath = f'model-{K}' + '-{epoch:02d}-{loss:.3f}.hdf5'\n",
        "checkpoint = ModelCheckpoint(filepath, verbose=1, save_best_only=False, save_weights_only=False)\n",
        "\n",
        "model = Model(inputs=[u, m], outputs=x)\n",
        "model.compile(\n",
        "  loss='mse',\n",
        "  optimizer=SGD(learning_rate=0.08, momentum=0.9),\n",
        "  metrics=['mse'],\n",
        ")\n",
        "# model = load_model('model-10-14-0.549.hdf5')\n",
        "\n",
        "# train\n",
        "r = model.fit(\n",
        "  x=[df.userId.values, df.movie_idx.values],\n",
        "  y=df.rating.values - mu,\n",
        "  epochs=epochs,\n",
        "  initial_epoch=14,\n",
        "  batch_size=256,\n",
        "  callbacks=[checkpoint]\n",
        ")\n"
      ]
    },
    {
      "cell_type": "code",
      "execution_count": null,
      "metadata": {
        "id": "qeh2tsNkUrYo"
      },
      "outputs": [],
      "source": [
        "import matplotlib.pyplot as plt\n",
        "\n",
        "# plot losses\n",
        "plt.plot(r.history['loss'], label=\"train loss\")\n",
        "plt.legend()\n",
        "plt.show()\n",
        "\n",
        "# plot mse\n",
        "plt.plot(r.history['mse'], label=\"train mse\")\n",
        "plt.legend()\n",
        "plt.show()"
      ]
    }
  ],
  "metadata": {
    "accelerator": "GPU",
    "colab": {
      "provenance": []
    },
    "gpuClass": "standard",
    "kernelspec": {
      "display_name": "Python 3",
      "language": "python",
      "name": "python3"
    },
    "language_info": {
      "name": "python",
      "version": "3.10.0 (tags/v3.10.0:b494f59, Oct  4 2021, 19:00:18) [MSC v.1929 64 bit (AMD64)]"
    },
    "vscode": {
      "interpreter": {
        "hash": "bedefe99a532ed1dcc567f7f5beb39e3c5be466ed88551f7c83012ec64f38bef"
      }
    }
  },
  "nbformat": 4,
  "nbformat_minor": 0
}
