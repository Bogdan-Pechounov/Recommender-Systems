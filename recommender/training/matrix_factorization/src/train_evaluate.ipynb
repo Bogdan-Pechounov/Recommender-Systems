{
 "cells": [
  {
   "cell_type": "code",
   "execution_count": 2,
   "metadata": {},
   "outputs": [],
   "source": [
    "import pandas as pd\n",
    "import pickle\n",
    "\n",
    "# load\n",
    "with open('../data/df.pickle', 'rb') as f:\n",
    "    df: pd.DataFrame = pickle.load(f)"
   ]
  },
  {
   "cell_type": "code",
   "execution_count": 3,
   "metadata": {},
   "outputs": [
    {
     "name": "stdout",
     "output_type": "stream",
     "text": [
      "27753444 ratings | 283228 users | 53889 movies\n",
      "22202755 ratings | 281914 users | 51528 movies\n",
      "5550689 ratings | 264112 users | 36716 movies\n"
     ]
    }
   ],
   "source": [
    "from utils import print_summary\n",
    "from sklearn.utils import shuffle\n",
    "\n",
    "# split into train and validation set\n",
    "df = shuffle(df)\n",
    "cutoff = int(0.8*len(df))\n",
    "df_train = df.iloc[:cutoff]\n",
    "df_test = df.iloc[cutoff:]\n",
    "\n",
    "print_summary(df)\n",
    "print_summary(df_train)\n",
    "print_summary(df_test)\n"
   ]
  },
  {
   "cell_type": "code",
   "execution_count": 4,
   "metadata": {},
   "outputs": [
    {
     "name": "stdout",
     "output_type": "stream",
     "text": [
      "283228 53889 3.53034364429099\n"
     ]
    },
    {
     "name": "stderr",
     "output_type": "stream",
     "text": [
      "c:\\Users\\bpech\\miniconda3\\envs\\ml\\lib\\site-packages\\keras\\optimizers\\optimizer_v2\\gradient_descent.py:108: UserWarning: The `lr` argument is deprecated, use `learning_rate` instead.\n",
      "  super(SGD, self).__init__(name, **kwargs)\n"
     ]
    }
   ],
   "source": [
    "from keras.models import Model\n",
    "from keras.layers import Input, Embedding, Dot, Add, Flatten\n",
    "from keras.regularizers import l2\n",
    "from keras.optimizers import SGD\n",
    "\n",
    "N = df.userId.max() + 1 # number of users\n",
    "M = df.movie_idx.max() + 1 # number of movies\n",
    "mu = df_train.rating.mean()\n",
    "print(N, M, mu)\n",
    "\n",
    "# parameters\n",
    "K = 10\n",
    "epochs = 15\n",
    "reg = 0.\n",
    "\n",
    "# keras model\n",
    "u = Input(shape=(1,))\n",
    "m = Input(shape=(1,))\n",
    "u_embedding = Embedding(N, K, embeddings_regularizer=l2(reg))(u) # (N, 1, K)\n",
    "m_embedding = Embedding(M, K, embeddings_regularizer=l2(reg))(m) # (N, 1, K)\n",
    "\n",
    "u_bias = Embedding(N, 1, embeddings_regularizer=l2(reg))(u) # (N, 1, 1)\n",
    "m_bias = Embedding(M, 1, embeddings_regularizer=l2(reg))(m) # (N, 1, 1)\n",
    "x = Dot(axes=2)([u_embedding, m_embedding]) # (N, 1, 1)\n",
    "\n",
    "x = Add()([x, u_bias, m_bias])\n",
    "x = Flatten()(x) # (N, 1)\n",
    "\n",
    "\n",
    "model = Model(inputs=[u, m], outputs=x)\n",
    "model.compile(\n",
    "  loss='mse',\n",
    "  optimizer=SGD(lr=0.08, momentum=0.9),\n",
    "  metrics=['mse'],\n",
    ")\n",
    "\n",
    "# train\n",
    "# r = model.fit(\n",
    "#   x=[df_train.userId.values, df_train.movie_idx.values],\n",
    "#   y=df_train.rating.values - mu,\n",
    "#   epochs=epochs,\n",
    "#   batch_size=128,\n",
    "#   validation_data=(\n",
    "#     [df_test.userId.values, df_test.movie_idx.values],\n",
    "#     df_test.rating.values - mu\n",
    "#   )\n",
    "# )\n"
   ]
  },
  {
   "cell_type": "code",
   "execution_count": 5,
   "metadata": {},
   "outputs": [
    {
     "name": "stdout",
     "output_type": "stream",
     "text": [
      "user_ids.shape (5,)\n",
      "1/1 [==============================] - 0s 182ms/step\n",
      "p[0].shape: (5, 1, 10)\n",
      "p[1].shape: (5, 1, 10)\n"
     ]
    }
   ],
   "source": [
    "\n",
    "subsubmodel = Model([u, m], [u_embedding, m_embedding])\n",
    "user_ids = df_train.userId.values[0:5]\n",
    "movie_ids = df_train.movie_idx.values[0:5]\n",
    "print(\"user_ids.shape\", user_ids.shape)\n",
    "p = subsubmodel.predict([user_ids, movie_ids])\n",
    "print(\"p[0].shape:\", p[0].shape)\n",
    "print(\"p[1].shape:\", p[1].shape)\n"
   ]
  },
  {
   "cell_type": "code",
   "execution_count": 9,
   "metadata": {},
   "outputs": [
    {
     "name": "stdout",
     "output_type": "stream",
     "text": [
      "[219934 149278 188037 277431 165022] <class 'numpy.ndarray'>\n",
      "[5] <class 'numpy.ndarray'>\n"
     ]
    }
   ],
   "source": [
    "print(user_ids, type(user_ids))\n",
    "\n",
    "import numpy as np\n",
    "\n",
    "a = np.array([5])\n",
    "print(a, type(a))"
   ]
  }
 ],
 "metadata": {
  "kernelspec": {
   "display_name": "Python 3.10.6 ('ml')",
   "language": "python",
   "name": "python3"
  },
  "language_info": {
   "codemirror_mode": {
    "name": "ipython",
    "version": 3
   },
   "file_extension": ".py",
   "mimetype": "text/x-python",
   "name": "python",
   "nbconvert_exporter": "python",
   "pygments_lexer": "ipython3",
   "version": "3.10.6"
  },
  "orig_nbformat": 4,
  "vscode": {
   "interpreter": {
    "hash": "473c9f7a18adf9446b7b2af9876b9dd49ecbb896620adf0e0849c5ff0311f28b"
   }
  }
 },
 "nbformat": 4,
 "nbformat_minor": 2
}
