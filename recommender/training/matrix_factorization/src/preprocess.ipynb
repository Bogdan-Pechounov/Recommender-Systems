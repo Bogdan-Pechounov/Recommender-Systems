{
 "cells": [
  {
   "cell_type": "code",
   "execution_count": 1,
   "metadata": {},
   "outputs": [
    {
     "name": "stdout",
     "output_type": "stream",
     "text": [
      "0.0\n",
      "loading...\n",
      "12.074478149414062\n",
      "user ids\n",
      "0.6462512016296387\n",
      "map\n",
      "3.7250661849975586\n",
      "movie ids\n",
      "0.9359462261199951\n",
      "timestamps\n"
     ]
    }
   ],
   "source": [
    "import pandas as pd\n",
    "import time\n",
    "from utils import Checkpoint\n",
    "\n",
    "# preprocess\n",
    "checkpoint = Checkpoint()\n",
    "checkpoint.print('loading...')\n",
    "df = pd.read_csv('../../../data/full/ratings.csv')\n",
    "\n",
    "# make user id go from 0 to N-1\n",
    "checkpoint.print('user ids')\n",
    "df.userId = df.userId - 1\n",
    "\n",
    "# make movie id go from 0 to M-1\n",
    "checkpoint.print('map')\n",
    "movie2idx = {}\n",
    "count = 0\n",
    "for movie_id in set(df.movieId.values):\n",
    "    movie2idx[movie_id] = count\n",
    "    count += 1\n",
    "\n",
    "checkpoint.print('movie ids')\n",
    "df['movie_idx'] = df.movieId.map(movie2idx)\n",
    "\n",
    "checkpoint.print('timestamps')\n",
    "df = df.drop(columns=['timestamp'])\n"
   ]
  },
  {
   "cell_type": "code",
   "execution_count": 5,
   "metadata": {},
   "outputs": [
    {
     "name": "stdout",
     "output_type": "stream",
     "text": [
      "27753444 ratings | 283228 users | 53889 movies\n"
     ]
    }
   ],
   "source": [
    "import utils\n",
    "import pickle\n",
    "\n",
    "utils.print_summary(df)\n",
    "# save\n",
    "with open('../data/df.pickle', 'wb') as f:\n",
    "    pickle.dump(df, f)"
   ]
  }
 ],
 "metadata": {
  "kernelspec": {
   "display_name": "Python 3.10.6 ('ml')",
   "language": "python",
   "name": "python3"
  },
  "language_info": {
   "codemirror_mode": {
    "name": "ipython",
    "version": 3
   },
   "file_extension": ".py",
   "mimetype": "text/x-python",
   "name": "python",
   "nbconvert_exporter": "python",
   "pygments_lexer": "ipython3",
   "version": "3.10.8 | packaged by conda-forge | (main, Nov 24 2022, 14:07:00) [MSC v.1916 64 bit (AMD64)]"
  },
  "orig_nbformat": 4,
  "vscode": {
   "interpreter": {
    "hash": "473c9f7a18adf9446b7b2af9876b9dd49ecbb896620adf0e0849c5ff0311f28b"
   }
  }
 },
 "nbformat": 4,
 "nbformat_minor": 2
}
