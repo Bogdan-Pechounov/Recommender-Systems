{
 "cells": [
  {
   "cell_type": "code",
   "execution_count": 1,
   "metadata": {},
   "outputs": [],
   "source": [
    "from model import Model\n",
    "\n",
    "model = Model('model-10-20-0.537.hdf5')"
   ]
  },
  {
   "cell_type": "code",
   "execution_count": 13,
   "metadata": {},
   "outputs": [
    {
     "data": {
      "text/plain": [
       "array([[-0.2442025 ,  2.1548488 , -0.53626716, ..., -0.5016769 ,\n",
       "         0.65904886, -0.620072  ],\n",
       "       [ 0.11574958,  2.1286237 ,  0.14050423, ..., -0.56202376,\n",
       "        -0.34465325, -0.10031056],\n",
       "       [-0.29457596,  2.0884483 ,  0.48318508, ..., -0.59538776,\n",
       "        -0.3003585 ,  0.12197196],\n",
       "       ...,\n",
       "       [-0.5145714 , -2.0603495 , -0.49188423, ..., -0.15636957,\n",
       "         0.86539716,  0.20527095],\n",
       "       [ 0.5712354 , -2.3913953 , -0.43815506, ...,  0.6463976 ,\n",
       "         0.3986572 , -0.41537774],\n",
       "       [-0.8164138 , -2.5520675 , -1.0168995 , ..., -0.05298483,\n",
       "        -1.1097059 ,  0.4459769 ]], dtype=float32)"
      ]
     },
     "execution_count": 13,
     "metadata": {},
     "output_type": "execute_result"
    }
   ],
   "source": [
    "features = model.embeddings\n",
    "\n",
    "features[features[:, 1].argsort()[::-1]]"
   ]
  },
  {
   "cell_type": "code",
   "execution_count": 16,
   "metadata": {},
   "outputs": [
    {
     "data": {
      "text/plain": [
       "array([[-0.05538751, -0.04795782,  0.0291001 , -0.00496287, -0.02721752,\n",
       "        -0.05107452, -0.01082291, -0.02186704, -0.00982291,  0.00608462],\n",
       "       [ 1.1541047 ,  1.3417158 , -0.6806546 ,  0.94373095,  0.96915996,\n",
       "         1.3151184 , -0.5494101 ,  1.2154343 , -0.87776136,  0.88355696]],\n",
       "      dtype=float32)"
      ]
     },
     "execution_count": 16,
     "metadata": {},
     "output_type": "execute_result"
    }
   ],
   "source": [
    "features[0:2]"
   ]
  }
 ],
 "metadata": {
  "kernelspec": {
   "display_name": "Python 3",
   "language": "python",
   "name": "python3"
  },
  "language_info": {
   "codemirror_mode": {
    "name": "ipython",
    "version": 3
   },
   "file_extension": ".py",
   "mimetype": "text/x-python",
   "name": "python",
   "nbconvert_exporter": "python",
   "pygments_lexer": "ipython3",
   "version": "3.10.0 (tags/v3.10.0:b494f59, Oct  4 2021, 19:00:18) [MSC v.1929 64 bit (AMD64)]"
  },
  "orig_nbformat": 4,
  "vscode": {
   "interpreter": {
    "hash": "bedefe99a532ed1dcc567f7f5beb39e3c5be466ed88551f7c83012ec64f38bef"
   }
  }
 },
 "nbformat": 4,
 "nbformat_minor": 2
}
