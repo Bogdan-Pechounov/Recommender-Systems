{
 "cells": [
  {
   "cell_type": "code",
   "execution_count": 1,
   "metadata": {},
   "outputs": [
    {
     "data": {
      "text/html": [
       "<div>\n",
       "<style scoped>\n",
       "    .dataframe tbody tr th:only-of-type {\n",
       "        vertical-align: middle;\n",
       "    }\n",
       "\n",
       "    .dataframe tbody tr th {\n",
       "        vertical-align: top;\n",
       "    }\n",
       "\n",
       "    .dataframe thead th {\n",
       "        text-align: right;\n",
       "    }\n",
       "</style>\n",
       "<table border=\"1\" class=\"dataframe\">\n",
       "  <thead>\n",
       "    <tr style=\"text-align: right;\">\n",
       "      <th></th>\n",
       "      <th>userId</th>\n",
       "      <th>movieId</th>\n",
       "      <th>rating</th>\n",
       "      <th>timestamp</th>\n",
       "      <th>movie_idx</th>\n",
       "    </tr>\n",
       "  </thead>\n",
       "  <tbody>\n",
       "    <tr>\n",
       "      <th>0</th>\n",
       "      <td>0</td>\n",
       "      <td>307</td>\n",
       "      <td>3.5</td>\n",
       "      <td>1256677221</td>\n",
       "      <td>307</td>\n",
       "    </tr>\n",
       "    <tr>\n",
       "      <th>1</th>\n",
       "      <td>0</td>\n",
       "      <td>481</td>\n",
       "      <td>3.5</td>\n",
       "      <td>1256677456</td>\n",
       "      <td>481</td>\n",
       "    </tr>\n",
       "    <tr>\n",
       "      <th>2</th>\n",
       "      <td>0</td>\n",
       "      <td>1091</td>\n",
       "      <td>1.5</td>\n",
       "      <td>1256677471</td>\n",
       "      <td>1091</td>\n",
       "    </tr>\n",
       "    <tr>\n",
       "      <th>3</th>\n",
       "      <td>0</td>\n",
       "      <td>1257</td>\n",
       "      <td>4.5</td>\n",
       "      <td>1256677460</td>\n",
       "      <td>1257</td>\n",
       "    </tr>\n",
       "    <tr>\n",
       "      <th>4</th>\n",
       "      <td>0</td>\n",
       "      <td>1449</td>\n",
       "      <td>4.5</td>\n",
       "      <td>1256677264</td>\n",
       "      <td>1449</td>\n",
       "    </tr>\n",
       "    <tr>\n",
       "      <th>...</th>\n",
       "      <td>...</td>\n",
       "      <td>...</td>\n",
       "      <td>...</td>\n",
       "      <td>...</td>\n",
       "      <td>...</td>\n",
       "    </tr>\n",
       "    <tr>\n",
       "      <th>27753439</th>\n",
       "      <td>283227</td>\n",
       "      <td>8542</td>\n",
       "      <td>4.5</td>\n",
       "      <td>1379882795</td>\n",
       "      <td>8351</td>\n",
       "    </tr>\n",
       "    <tr>\n",
       "      <th>27753440</th>\n",
       "      <td>283227</td>\n",
       "      <td>8712</td>\n",
       "      <td>4.5</td>\n",
       "      <td>1379882751</td>\n",
       "      <td>8513</td>\n",
       "    </tr>\n",
       "    <tr>\n",
       "      <th>27753441</th>\n",
       "      <td>283227</td>\n",
       "      <td>34405</td>\n",
       "      <td>4.5</td>\n",
       "      <td>1379882889</td>\n",
       "      <td>22224</td>\n",
       "    </tr>\n",
       "    <tr>\n",
       "      <th>27753442</th>\n",
       "      <td>283227</td>\n",
       "      <td>44761</td>\n",
       "      <td>4.5</td>\n",
       "      <td>1354159524</td>\n",
       "      <td>27965</td>\n",
       "    </tr>\n",
       "    <tr>\n",
       "      <th>27753443</th>\n",
       "      <td>283227</td>\n",
       "      <td>54286</td>\n",
       "      <td>4.5</td>\n",
       "      <td>1354159718</td>\n",
       "      <td>33151</td>\n",
       "    </tr>\n",
       "  </tbody>\n",
       "</table>\n",
       "<p>27753444 rows × 5 columns</p>\n",
       "</div>"
      ],
      "text/plain": [
       "          userId  movieId  rating   timestamp  movie_idx\n",
       "0              0      307     3.5  1256677221        307\n",
       "1              0      481     3.5  1256677456        481\n",
       "2              0     1091     1.5  1256677471       1091\n",
       "3              0     1257     4.5  1256677460       1257\n",
       "4              0     1449     4.5  1256677264       1449\n",
       "...          ...      ...     ...         ...        ...\n",
       "27753439  283227     8542     4.5  1379882795       8351\n",
       "27753440  283227     8712     4.5  1379882751       8513\n",
       "27753441  283227    34405     4.5  1379882889      22224\n",
       "27753442  283227    44761     4.5  1354159524      27965\n",
       "27753443  283227    54286     4.5  1354159718      33151\n",
       "\n",
       "[27753444 rows x 5 columns]"
      ]
     },
     "execution_count": 1,
     "metadata": {},
     "output_type": "execute_result"
    }
   ],
   "source": [
    "import pandas as pd\n",
    "\n",
    "df = pd.read_csv('../data/full/ratings_edited.csv')\n",
    "df"
   ]
  },
  {
   "cell_type": "code",
   "execution_count": 2,
   "metadata": {},
   "outputs": [],
   "source": [
    "avg_ratings = {}\n",
    "for id in set(df.movie_idx.values):\n",
    "  filtered = df[df.movie_idx == id]\n",
    "  total = filtered.rating.sum()\n",
    "  count = len(filtered)\n",
    "  avg_ratings[id] = total/count\n"
   ]
  },
  {
   "cell_type": "code",
   "execution_count": 5,
   "metadata": {},
   "outputs": [
    {
     "data": {
      "image/png": "[encoded data removed]",
      "text/plain": [
       "<Figure size 640x480 with 1 Axes>"
      ]
     },
     "metadata": {},
     "output_type": "display_data"
    },
    {
     "data": {
      "image/png": "[encoded data removed]",
      "text/plain": [
       "<Figure size 640x480 with 1 Axes>"
      ]
     },
     "metadata": {},
     "output_type": "display_data"
    },
    {
     "data": {
      "image/png": "[encoded data removed]",
      "text/plain": [
       "<Figure size 640x480 with 1 Axes>"
      ]
     },
     "metadata": {},
     "output_type": "display_data"
    }
   ],
   "source": [
    "import matplotlib.pyplot as plt\n",
    "from model import Model\n",
    "\n",
    "models = [Model(f'models/{name}.hdf5')\n",
    "          for name in ['model-5-20-0.591', 'model-10-20-0.537', 'model-20-20-0.478']]\n",
    "\n",
    "for model in models:\n",
    "  for id in avg_ratings:\n",
    "    plt.plot(model.bias(id), avg_ratings[id])\n",
    "  plt.show()"
   ]
  },
  {
   "cell_type": "code",
   "execution_count": 16,
   "metadata": {},
   "outputs": [
    {
     "name": "stdout",
     "output_type": "stream",
     "text": [
      "[[-0.13039953]]\n",
      "PearsonRResult(statistic=0.6476632678791463, pvalue=0.0)\n",
      "[2.5, 3.8866494325899312, 3.246582912721512, 3.173981392364453, 2.874539979926397, 3.0772909396406876, 3.8442108566049575, 3.371348277890334, 3.122482131254061, 3.007529781973477] [-0.27172402, 0.32603174, -0.2590918, -0.45964333, -0.7338084, -0.70838785, 0.20195559, -0.30761445, -0.52554566, -0.69600517]\n",
      "[[-0.11461339]]\n",
      "PearsonRResult(statistic=0.6481719733693021, pvalue=0.0)\n",
      "[2.5, 3.8866494325899312, 3.246582912721512, 3.173981392364453, 2.874539979926397, 3.0772909396406876, 3.8442108566049575, 3.371348277890334, 3.122482131254061, 3.007529781973477] [-0.26865023, 0.253213, -0.31259748, -0.48783714, -0.8621284, -0.6140905, 0.16907652, -0.37849143, -0.57963777, -0.7433769]\n",
      "[[-0.112387]]\n",
      "PearsonRResult(statistic=0.6425793463113993, pvalue=0.0)\n",
      "[2.5, 3.8866494325899312, 3.246582912721512, 3.173981392364453, 2.874539979926397, 3.0772909396406876, 3.8442108566049575, 3.371348277890334, 3.122482131254061, 3.007529781973477] [-0.19607171, 0.24966654, -0.2806664, -0.44618276, -0.7801451, -0.6274781, 0.17272337, -0.3344226, -0.508344, -0.83940375]\n"
     ]
    }
   ],
   "source": [
    "from sklearn.metrics.pairwise import cosine_similarity\n",
    "from scipy.stats import pearsonr\n",
    "\n",
    "for model in models:\n",
    "  ratings = []\n",
    "  biases = []\n",
    "  for id in avg_ratings:\n",
    "    ratings.append(avg_ratings[id])\n",
    "    biases.append(model.bias(id))\n",
    "  print(cosine_similarity([ratings], [biases]))\n",
    "  print(pearsonr(ratings, biases))\n",
    "  print(ratings[:10], biases[:10])\n"
   ]
  }
 ],
 "metadata": {
  "kernelspec": {
   "display_name": "Python 3",
   "language": "python",
   "name": "python3"
  },
  "language_info": {
   "codemirror_mode": {
    "name": "ipython",
    "version": 3
   },
   "file_extension": ".py",
   "mimetype": "text/x-python",
   "name": "python",
   "nbconvert_exporter": "python",
   "pygments_lexer": "ipython3",
   "version": "3.10.0"
  },
  "orig_nbformat": 4,
  "vscode": {
   "interpreter": {
    "hash": "bedefe99a532ed1dcc567f7f5beb39e3c5be466ed88551f7c83012ec64f38bef"
   }
  }
 },
 "nbformat": 4,
 "nbformat_minor": 2
}
